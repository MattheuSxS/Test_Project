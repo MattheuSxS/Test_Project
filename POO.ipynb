{
 "cells": [
  {
   "cell_type": "markdown",
   "metadata": {},
   "source": [
    "### Classes\n",
    "- Representam ideias ou conceitos, classificando\n",
    "entidades que tenham propriedades similares.\n",
    "- Blocos de construção mais importantes em sistemas\n",
    "00, com responsabilidades bem definidas dentro da\n",
    "aplicação.\n",
    "- Definem objetos que possuem os mesmos atributos e\n",
    "operações.\n",
    "- Tipo personalizado de dados, “molde\"\n",
    "para a criação de objetos."
   ]
  },
  {
   "cell_type": "markdown",
   "metadata": {},
   "source": []
  },
  {
   "cell_type": "code",
   "execution_count": 37,
   "metadata": {},
   "outputs": [],
   "source": [
    "class Cubo:\n",
    "    '''Classe para calcular o cubo de um número'''\n",
    "    def __init__(self, valor): # método construtor da classe\n",
    "        self.x = valor\n",
    "        print('Objeto criado!')\n",
    "\n",
    "    def calcula_cubo(self):\n",
    "        cubo = self.x * self.x * self.x\n",
    "        return f'Cubo Calculado: {cubo}'"
   ]
  },
  {
   "cell_type": "code",
   "execution_count": 41,
   "metadata": {},
   "outputs": [
    {
     "name": "stdout",
     "output_type": "stream",
     "text": [
      "Objeto criado!\n",
      "Cubo Calculado: 216\n"
     ]
    }
   ],
   "source": [
    "test = Cubo(6)\n",
    "c = test.calcula_cubo()\n",
    "print(c)"
   ]
  },
  {
   "cell_type": "code",
   "execution_count": 42,
   "metadata": {},
   "outputs": [
    {
     "name": "stdout",
     "output_type": "stream",
     "text": [
      "Um gato é um animal Felino\n"
     ]
    }
   ],
   "source": [
    "# Método Construtor\n",
    "\n",
    "class Gato:\n",
    "    '''Inicia automaticamente!'''\n",
    "    def __init__(self):\n",
    "        self.tipo_animal = 'Felino'\n",
    "        print(f'Um gato é um animal {self.tipo_animal}')\n",
    "\n",
    "g1 = Gato()"
   ]
  },
  {
   "cell_type": "code",
   "execution_count": 44,
   "metadata": {},
   "outputs": [
    {
     "name": "stdout",
     "output_type": "stream",
     "text": [
      "Seu gatinho se chama matheus\n"
     ]
    }
   ],
   "source": [
    "# Método construtor\n",
    "class Gato:\n",
    "    '''Classe para trabachar com gatos'''\n",
    "    def __init__(self, nome):\n",
    "        'Inicializa o objeto capturando o nome do animal'\n",
    "        self.nome = nome\n",
    "        print('Seu gatinho se chama', self.nome)\n",
    "nome_gato = input('Digite o nome de seu gato: ')\n",
    "\n",
    "g1 = Gato(nome_gato) "
   ]
  },
  {
   "cell_type": "markdown",
   "metadata": {},
   "source": [
    "### Método\n",
    "- Lógica contida em uma classe para atribuir\n",
    "comportamentos (sequência de comandos), identificada\n",
    "por um nome.\n",
    "- Similar a funções e procedimentos.\n",
    "- Quando um método é executado dizemos que ele é\n",
    "invocado (chamado).\n",
    "- Exemplos de métodos: uma classe Pessoa pode ter\n",
    "os métodos nascer(), comer() e morrer()."
   ]
  },
  {
   "cell_type": "code",
   "execution_count": 2,
   "metadata": {},
   "outputs": [
    {
     "name": "stdout",
     "output_type": "stream",
     "text": [
      "Seu gatinho se chama Mimi\n",
      "0 animal está abaixo do peso! \n"
     ]
    }
   ],
   "source": [
    "# Método construtor\n",
    "class Gato:\n",
    "    '''Classe para trabachar com gatos'''\n",
    "    def __init__(self, nome):\n",
    "        'Inicializa o objeto capturando o nome do animal'\n",
    "        self.nome = nome\n",
    "        print('Seu gatinho se chama', self.nome)\n",
    "    \n",
    "    def peso_gato(self, peso):\n",
    "        self.peso = peso\n",
    "        if (self.peso > 5.0):\n",
    "            print('Seu gato está gordinho!')\n",
    "        elif (self.peso > 3.5):\n",
    "            print('Peso parece normal')\n",
    "        else:\n",
    "            print('0 animal está abaixo do peso! ')\n",
    "\n",
    "nome_gato = input('Digite o nome de seu gato: ')\n",
    "g1 = Gato(nome_gato)\n",
    "peso = float(input('\\nQual o peso de seu gato, em kg? '))\n",
    "g1.peso_gato(peso)"
   ]
  },
  {
   "cell_type": "markdown",
   "metadata": {},
   "source": [
    "### Métodos Utilitários\n",
    "- Métodos usados apenas dentro da classe, não sendo parte da interface pública usada pelo código cliente.\n",
    "- São acessados por outros métodos dentro do objeto para realizar tarefas específicas.\n",
    "- Devem preferencialmente ser nomeados com um underscore como prefixo."
   ]
  },
  {
   "cell_type": "code",
   "execution_count": 5,
   "metadata": {},
   "outputs": [
    {
     "name": "stdout",
     "output_type": "stream",
     "text": [
      "Seu gatinho se chama mimi\n",
      "0 animal está abaixo do peso! \n",
      "\n",
      "O gato mimi está com 2.0 kg\n",
      "Aumente a ração do felino\n"
     ]
    }
   ],
   "source": [
    "# Método construtor\n",
    "class Gato:\n",
    "    '''Classe para trabachar com gatos'''\n",
    "    def __init__(self, nome):\n",
    "        'Inicializa o objeto capturando o nome do animal'\n",
    "        self.nome = nome\n",
    "        print('Seu gatinho se chama', self.nome)\n",
    "    \n",
    "    def peso_gato(self, peso):\n",
    "        self.peso = peso\n",
    "        if (self.peso > 5.0):\n",
    "            print('Seu gato está gordinho!')\n",
    "        elif (self.peso > 3.5):\n",
    "            print('Peso parece normal')\n",
    "        else:\n",
    "            print('0 animal está abaixo do peso! ')\n",
    "\n",
    "    def _dieta_especial_gato(self):\n",
    "        self.msg = 'Tudo ok!'\n",
    "        if (self.peso < 3.5):\n",
    "                self.msg = 'Aumente a ração do felino'\n",
    "        if (self.peso >= 5.0):\n",
    "                self.msg = 'Diminua a ração do felino'\n",
    "        return self.msg\n",
    "\n",
    "    def dados_gato(self):\n",
    "        print(f'\\nO gato {self.nome} está com {self.peso} kg')\n",
    "        print(self._dieta_especial_gato()) # Assim chamamos o metodo acima!\n",
    "\n",
    "nome_gato = input('Digite o nome de seu gato: ')\n",
    "g1 = Gato(nome_gato)\n",
    "peso = float(input('\\nQual o peso de seu gato, em kg? '))\n",
    "g1.peso_gato(peso)\n",
    "g1.dados_gato()"
   ]
  },
  {
   "cell_type": "markdown",
   "metadata": {},
   "source": [
    "### Atributo\n",
    "- ou Propriedade: Característica particular de umaOcorrência de uma classe, por exemplo o nome e a altura de uma pessoa.\n",
    "- Existem dois tipos principais de atributos ou variáveis:\n",
    "    - Variável de Classe: Pertence à classe em si.\n",
    "    - Variável de Instância: Pertence a cada objeto individualmente."
   ]
  },
  {
   "cell_type": "code",
   "execution_count": 7,
   "metadata": {},
   "outputs": [
    {
     "name": "stdout",
     "output_type": "stream",
     "text": [
      "Pet\n",
      "Pet\n",
      "Mimi\n",
      "Mimi2\n",
      "Bichano\n",
      "Pet\n"
     ]
    }
   ],
   "source": [
    "# Variáveis de Classe e de Instância\n",
    "\n",
    "class Gato:\n",
    "    tipo_animal = 'Felino'\n",
    "\n",
    "    def __init__(self, nome):\n",
    "        self.nome = nome\n",
    "\n",
    "Gato.tipo_animal = 'Pet' # <-- Posso setar o nome da variavel de classe\n",
    "g1 = Gato('Mimi')\n",
    "g2 = Gato('Mimi2')\n",
    " \n",
    "print(g1.tipo_animal)\n",
    "print(g2.tipo_animal)\n",
    "\n",
    "print(g1.nome)\n",
    "print(g2.nome)\n",
    "\n",
    "g1.tipo_animal = 'Bichano' # <-- Posso fazer para aquele objeto tb\n",
    "print(g1.tipo_animal)\n",
    "print(g2.tipo_animal)\n"
   ]
  },
  {
   "cell_type": "code",
   "execution_count": null,
   "metadata": {},
   "outputs": [],
   "source": []
  },
  {
   "cell_type": "markdown",
   "metadata": {},
   "source": []
  }
 ],
 "metadata": {
  "interpreter": {
   "hash": "e744d818b795754bc4d90fadb97e5134044ddeaeb324f7ae1e9af24dbbeca267"
  },
  "kernelspec": {
   "display_name": "Python 3.9.7 ('base')",
   "language": "python",
   "name": "python3"
  },
  "language_info": {
   "codemirror_mode": {
    "name": "ipython",
    "version": 3
   },
   "file_extension": ".py",
   "mimetype": "text/x-python",
   "name": "python",
   "nbconvert_exporter": "python",
   "pygments_lexer": "ipython3",
   "version": "3.9.7"
  },
  "orig_nbformat": 4
 },
 "nbformat": 4,
 "nbformat_minor": 2
}
